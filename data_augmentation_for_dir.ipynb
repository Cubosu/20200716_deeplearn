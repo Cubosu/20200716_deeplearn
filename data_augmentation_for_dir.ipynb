{
  "nbformat": 4,
  "nbformat_minor": 0,
  "metadata": {
    "colab": {
      "name": "data_augmentation for dir.ipynb",
      "provenance": [],
      "authorship_tag": "ABX9TyOiBIL1buPRwdvZGkdxJvFB",
      "include_colab_link": true
    },
    "kernelspec": {
      "name": "python3",
      "display_name": "Python 3"
    }
  },
  "cells": [
    {
      "cell_type": "markdown",
      "metadata": {
        "id": "view-in-github",
        "colab_type": "text"
      },
      "source": [
        "<a href=\"https://colab.research.google.com/github/Cubosu/20200716_deeplearn/blob/master/data_augmentation_for_dir.ipynb\" target=\"_parent\"><img src=\"https://colab.research.google.com/assets/colab-badge.svg\" alt=\"Open In Colab\"/></a>"
      ]
    },
    {
      "cell_type": "code",
      "metadata": {
        "id": "shuH4xWY1G3f",
        "colab_type": "code",
        "colab": {}
      },
      "source": [
        "import cv2\n",
        "from matplotlib import pyplot as plt\n",
        "from glob import glob\n",
        "# Plot inline\n",
        "%matplotlib inline\n",
        "from pylab import rcParams\n",
        "rcParams['figure.figsize'] = 15, 15\n",
        "\n",
        "from keras.preprocessing.image import ImageDataGenerator, array_to_img, img_to_array, load_img"
      ],
      "execution_count": 2,
      "outputs": []
    },
    {
      "cell_type": "code",
      "metadata": {
        "id": "DtdlO__Y1S8t",
        "colab_type": "code",
        "colab": {}
      },
      "source": [
        "f = 0\n",
        "while f<len(glob(\"/content/img/*.jpg\")):  \n",
        "  imgForTest = glob(\"/content/img/*.jpg\")[f] # 這邊改我們要放的資料路徑\n",
        "  img = cv2.imread(imgForTest)  \n",
        "  img = cv2.cvtColor(img, cv2.COLOR_BGR2RGB)\n",
        "  img = img.reshape((1,) + img.shape)\n",
        "\n",
        "  datagen = ImageDataGenerator(\n",
        "      zca_whitening=False,\n",
        "      rotation_range=20,  # 歪斜程度\n",
        "      width_shift_range=0,  # 寬度平移\n",
        "      height_shift_range=0, # 高度平移\n",
        "      shear_range=0.2,  # 把長方形便梯形的概念, 在不懂就很像房子倒塌的概念\n",
        "      zoom_range=0.2, # 圖片放大放小\n",
        "      horizontal_flip=True, # 左右相反\n",
        "      channel_shift_range=10, # 整體顏色的變化 10就是很微小的調整\n",
        "      fill_mode='nearest')\n",
        "\n",
        "  i = 0\n",
        "  for batch in datagen.flow(img, batch_size=10,\n",
        "      save_to_dir='people_augmentation', save_prefix='people', save_format='jpg'):\n",
        "      \n",
        "      augImage = batch[0]\n",
        "      augImage = augImage.astype('float32')\n",
        "      augImage /= 255\n",
        "      \n",
        "      \n",
        "      i += 1\n",
        "      if i > 5:  # 看要印出多少圖片最多19(這邊是可變動的)\n",
        "          break\n",
        "\n",
        "  f+=1"
      ],
      "execution_count": 3,
      "outputs": []
    }
  ]
}